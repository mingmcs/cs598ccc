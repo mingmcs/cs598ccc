{
  "nbformat": 4,
  "nbformat_minor": 0,
  "metadata": {
    "colab": {
      "provenance": [],
      "include_colab_link": true
    },
    "kernelspec": {
      "name": "python3",
      "display_name": "Python 3"
    },
    "language_info": {
      "name": "python"
    }
  },
  "cells": [
    {
      "cell_type": "markdown",
      "metadata": {
        "id": "view-in-github",
        "colab_type": "text"
      },
      "source": [
        "<a href=\"https://colab.research.google.com/github/mingmcs/cs598ccc/blob/main/cs598ccc.ipynb\" target=\"_parent\"><img src=\"https://colab.research.google.com/assets/colab-badge.svg\" alt=\"Open In Colab\"/></a>"
      ]
    },
    {
      "cell_type": "markdown",
      "source": [
        "# Azure open AI Service\n",
        "\n"
      ],
      "metadata": {
        "id": "7qmkGDl8tQhj"
      }
    },
    {
      "cell_type": "markdown",
      "source": [
        "## set up the env\n",
        "* install the required packages\n",
        "* create .env file,\n",
        "  ```\n",
        "  OPENAI_API_KEY=\"xxx\"\n",
        "  ```\n",
        "* upload the file to /content folder\n",
        "  * need to upload everytime when start a new session\n"
      ],
      "metadata": {
        "id": "e7xn-rL-5VTL"
      }
    },
    {
      "cell_type": "code",
      "execution_count": 1,
      "metadata": {
        "colab": {
          "base_uri": "https://localhost:8080/"
        },
        "id": "qBJqaXbHs4bN",
        "outputId": "bd1bd12d-520b-42e3-b3fe-2d25ad4a6835"
      },
      "outputs": [
        {
          "output_type": "stream",
          "name": "stdout",
          "text": [
            "\u001b[2K     \u001b[90m━━━━━━━━━━━━━━━━━━━━━━━━━━━━━━━━━━━━━━━━\u001b[0m \u001b[32m220.3/220.3 kB\u001b[0m \u001b[31m4.1 MB/s\u001b[0m eta \u001b[36m0:00:00\u001b[0m\n",
            "\u001b[2K     \u001b[90m━━━━━━━━━━━━━━━━━━━━━━━━━━━━━━━━━━━━━━━━\u001b[0m \u001b[32m75.0/75.0 kB\u001b[0m \u001b[31m7.5 MB/s\u001b[0m eta \u001b[36m0:00:00\u001b[0m\n",
            "\u001b[2K     \u001b[90m━━━━━━━━━━━━━━━━━━━━━━━━━━━━━━━━━━━━━━━━\u001b[0m \u001b[32m76.9/76.9 kB\u001b[0m \u001b[31m8.0 MB/s\u001b[0m eta \u001b[36m0:00:00\u001b[0m\n",
            "\u001b[2K     \u001b[90m━━━━━━━━━━━━━━━━━━━━━━━━━━━━━━━━━━━━━━━━\u001b[0m \u001b[32m58.3/58.3 kB\u001b[0m \u001b[31m6.1 MB/s\u001b[0m eta \u001b[36m0:00:00\u001b[0m\n",
            "\u001b[?25h\u001b[31mERROR: pip's dependency resolver does not currently take into account all the packages that are installed. This behaviour is the source of the following dependency conflicts.\n",
            "llmx 0.0.15a0 requires cohere, which is not installed.\n",
            "llmx 0.0.15a0 requires tiktoken, which is not installed.\u001b[0m\u001b[31m\n",
            "\u001b[0mCloning into 'code-and-datasets'...\n",
            "remote: Enumerating objects: 185, done.\u001b[K\n",
            "remote: Counting objects: 100% (185/185), done.\u001b[K\n",
            "remote: Compressing objects: 100% (147/147), done.\u001b[K\n",
            "remote: Total 185 (delta 37), reused 185 (delta 37), pack-reused 0\u001b[K\n",
            "Receiving objects: 100% (185/185), 361.29 KiB | 6.45 MiB/s, done.\n",
            "Resolving deltas: 100% (37/37), done.\n"
          ]
        }
      ],
      "source": [
        "!pip install --quiet openai python-dotenv\n",
        "!git clone https://github.com/LogSummary/code-and-datasets.git"
      ]
    },
    {
      "cell_type": "code",
      "source": [
        "# work around to wrap the text from response\n",
        "from IPython.display import HTML, display\n",
        "\n",
        "# autowrap the output\n",
        "def set_css():\n",
        "  display(HTML('''\n",
        "  <style>\n",
        "    pre {\n",
        "        white-space: pre-wrap;\n",
        "    }\n",
        "  </style>\n",
        "  '''))\n",
        "get_ipython().events.register('pre_run_cell', set_css)"
      ],
      "metadata": {
        "id": "-IfH0k7pyYqj"
      },
      "execution_count": 5,
      "outputs": []
    },
    {
      "cell_type": "code",
      "source": [
        "import json\n",
        "\n",
        "proxifier_log_fie = \"/content/code-and-datasets/data/summary/logs/Proxifier.txt\"\n",
        "\n",
        "SUMMARY = 'summary'\n",
        "LOG = 'log'\n",
        "def get_record_type(key):\n",
        "  if key.startswith(\"#summary:#\"):\n",
        "    return SUMMARY\n",
        "  else:\n",
        "    return LOG\n",
        "\n",
        "def load_data(file):\n",
        "  data_log = {}\n",
        "  data_summary = []\n",
        "  current_key = None\n",
        "  lines = []\n",
        "  record_type = LOG\n",
        "\n",
        "  with open(file, 'r') as file:\n",
        "    for line in file:\n",
        "      line = line.strip()\n",
        "      if not line:\n",
        "        continue\n",
        "\n",
        "      if line.startswith(\"#\"):\n",
        "        if current_key is not None:\n",
        "          if get_record_type(current_key) == SUMMARY:\n",
        "            data_summary.append(lines)\n",
        "          else:\n",
        "            data_log[current_key.replace(\"#\", \"\")] = lines\n",
        "\n",
        "        current_key = line\n",
        "        lines = []\n",
        "      else:\n",
        "        lines.append(line)\n",
        "\n",
        "    if current_key is not None:\n",
        "      data_summary.append(lines)\n",
        "  return data_log, data_summary\n",
        "\n",
        "p_data, p_summary = load_data(proxifier_log_fie)\n",
        "print(len(p_data))\n",
        "print( ', '.join(p_data.keys()))\n",
        "print('\\n'.join(p_data['1']))\n",
        "print(p_summary[0])\n",
        "print(len(p_data['2']))\n",
        "print(len(p_summary))"
      ],
      "metadata": {
        "colab": {
          "base_uri": "https://localhost:8080/",
          "height": 590
        },
        "id": "t-kVuAgwGnID",
        "outputId": "37959af8-7ed5-422d-8c03-d8ffcb185677"
      },
      "execution_count": 6,
      "outputs": [
        {
          "output_type": "display_data",
          "data": {
            "text/plain": [
              "<IPython.core.display.HTML object>"
            ],
            "text/html": [
              "\n",
              "  <style>\n",
              "    pre {\n",
              "        white-space: pre-wrap;\n",
              "    }\n",
              "  </style>\n",
              "  "
            ]
          },
          "metadata": {}
        },
        {
          "output_type": "stream",
          "name": "stdout",
          "text": [
            "100\n",
            "1, 2, 3, 4, 5, 6, 7, 8, 9, 10, 11, 12, 13, 14, 15, 16, 17, 18, 19, 20, 21, 22, 23, 24, 25, 26, 27, 28, 29, 30, 31, 32, 33, 34, 35, 36, 37, 38, 39, 40, 41, 42, 43, 44, 45, 46, 47, 48, 49, 50, 51, 52, 53, 54, 55, 56, 57, 58, 59, 60, 61, 62, 63, 64, 65, 66, 67, 68, 69, 70, 71, 72, 73, 74, 75, 76, 77, 78, 79, 80, 81, 82, 83, 84, 85, 86, 87, 88, 89, 90, 91, 92, 93, 94, 95, 96, 97, 98, 99, 100\n",
            "- proxy.cse.cuhk.edu.hk : 5070 open through proxy proxy.cse.cuhk.edu.hk : 5070 HTTPS\n",
            "- proxy.cse.cuhk.edu.hk : 5070 open through proxy proxy.cse.cuhk.edu.hk : 5070 HTTPS\n",
            "- proxy.cse.cuhk.edu.hk : 5070 open through proxy proxy.cse.cuhk.edu.hk : 5070 HTTPS\n",
            "- proxy.cse.cuhk.edu.hk : 5070 open through proxy proxy.cse.cuhk.edu.hk : 5070 HTTPS\n",
            "- proxy.cse.cuhk.edu.hk : 5070 open through proxy proxy.cse.cuhk.edu.hk : 5070 HTTPS\n",
            "- proxy.cse.cuhk.edu.hk : 5070 close , 403 bytes sent , 426 bytes received , lifetime <1 sec\n",
            "- proxy.cse.cuhk.edu.hk : 5070 open through proxy proxy.cse.cuhk.edu.hk : 5070 HTTPS\n",
            "- proxy.cse.cuhk.edu.hk : 5070 close , 1036 bytes ( 1.01 KB ) sent , 34151 bytes ( 33.3 KB ) received , lifetime <1 sec\n",
            "- proxy.cse.cuhk.edu.hk : 5070 close , 1040 bytes ( 1.01 KB ) sent , 15872 bytes ( 15.5 KB ) received , lifetime <1 sec\n",
            "- proxy.cse.cuhk.edu.hk : 5070 close , 1066 bytes ( 1.04 KB ) sent , 1782 bytes ( 1.74 KB ) received , lifetime <1 sec\n",
            "- proxy.cse.cuhk.edu.hk : 5070 close , 1060 bytes ( 1.03 KB ) sent , 1633 bytes ( 1.59 KB ) received , lifetime <1 sec\n",
            "- proxy.cse.cuhk.edu.hk : 5070 close , 1091 bytes ( 1.06 KB ) sent , 367 bytes received , lifetime <1 sec\n",
            "- proxy.cse.cuhk.edu.hk : 5070 close , 1097 bytes ( 1.07 KB ) sent , 366 bytes received , lifetime <1 sec\n",
            "- proxy.cse.cuhk.edu.hk : 5070 close , 1052 bytes ( 1.02 KB ) sent , 8362 bytes ( 8.16 KB ) received , lifetime <1 sec\n",
            "- proxy.cse.cuhk.edu.hk : 5070 close , 1124 bytes ( 1.09 KB ) sent , 529 bytes received , lifetime <1 sec\n",
            "- proxy.cse.cuhk.edu.hk : 5070 close , 0 bytes sent , 0 bytes received , lifetime 00 : 01\n",
            "- proxy.cse.cuhk.edu.hk : 5070 open through proxy proxy.cse.cuhk.edu.hk : 5070 HTTPS\n",
            "- proxy.cse.cuhk.edu.hk : 5070 open through proxy proxy.cse.cuhk.edu.hk : 5070 HTTPS\n",
            "- proxy.cse.cuhk.edu.hk : 5070 open through proxy proxy.cse.cuhk.edu.hk : 5070 HTTPS\n",
            "- proxy.cse.cuhk.edu.hk : 5070 open through proxy proxy.cse.cuhk.edu.hk : 5070 HTTPS\n",
            "['open through proxy; bytes sent; bytes received; close;']\n",
            "20\n",
            "100\n"
          ]
        }
      ]
    },
    {
      "cell_type": "code",
      "source": [
        "print('\\n'.join(p_data['2']))\n",
        "print(p_summary[1])"
      ],
      "metadata": {
        "id": "z5n2hK0Yrsko",
        "outputId": "a4d5c342-4d86-4d44-f5e8-5cdbe8615de4",
        "colab": {
          "base_uri": "https://localhost:8080/",
          "height": 434
        }
      },
      "execution_count": 7,
      "outputs": [
        {
          "output_type": "display_data",
          "data": {
            "text/plain": [
              "<IPython.core.display.HTML object>"
            ],
            "text/html": [
              "\n",
              "  <style>\n",
              "    pre {\n",
              "        white-space: pre-wrap;\n",
              "    }\n",
              "  </style>\n",
              "  "
            ]
          },
          "metadata": {}
        },
        {
          "output_type": "stream",
          "name": "stdout",
          "text": [
            "- tcpconn.tencent.com : 80 open through proxy proxy.cse.cuhk.edu.hk : 5070 HTTPS\n",
            "- tcpconn.tencent.com : 443 open through proxy proxy.cse.cuhk.edu.hk : 5070 HTTPS\n",
            "- tcpconn.tencent.com : 80 close , 0 bytes sent , 0 bytes received , lifetime <1 sec\n",
            "- tcpconn.tencent.com : 443 close , 0 bytes sent , 0 bytes received , lifetime <1 sec\n",
            "- tcpconn5.tencent.com : 80 open through proxy proxy.cse.cuhk.edu.hk : 5070 HTTPS\n",
            "- tcpconn5.tencent.com : 80 close , 0 bytes sent , 0 bytes received , lifetime <1 sec\n",
            "- tcpconn5.tencent.com : 443 open through proxy proxy.cse.cuhk.edu.hk : 5070 HTTPS\n",
            "- tcpconn5.tencent.com : 443 close , 0 bytes sent , 0 bytes received , lifetime <1 sec\n",
            "- 183.60.48.250 : 443 open through proxy proxy.cse.cuhk.edu.hk : 5070 HTTPS\n",
            "- proxy.cse.cuhk.edu.hk : 5070 open through proxy proxy.cse.cuhk.edu.hk : 5070 HTTPS\n",
            "- proxy.cse.cuhk.edu.hk : 5070 close , 639 bytes sent , 339 bytes received , lifetime <1 sec\n",
            "- proxy.cse.cuhk.edu.hk : 5070 open through proxy proxy.cse.cuhk.edu.hk : 5070 HTTPS\n",
            "- proxy.cse.cuhk.edu.hk : 5070 open through proxy proxy.cse.cuhk.edu.hk : 5070 HTTPS\n",
            "- proxy.cse.cuhk.edu.hk : 5070 open through proxy proxy.cse.cuhk.edu.hk : 5070 HTTPS\n",
            "- tcpconn4.tencent.com : 80 error : Could not connect through proxy proxy.cse.cuhk.edu.hk : 5070 - Proxy closed the connection unexpectedly.\n",
            "- tcpconn4.tencent.com : 443 error : Could not connect through proxy proxy.cse.cuhk.edu.hk : 5070 - Proxy closed the connection unexpectedly.\n",
            "- cgi.qqweb.qq.com : 80 open through proxy proxy.cse.cuhk.edu.hk : 5070 HTTPS\n",
            "- cgi.qqweb.qq.com : 80 close , 477 bytes sent , 448 bytes received , lifetime <1 sec\n",
            "- cgi.qqweb.qq.com : 80 open through proxy proxy.cse.cuhk.edu.hk : 5070 HTTPS\n",
            "- cgi.qqweb.qq.com : 80 close , 477 bytes sent , 448 bytes received , lifetime <1 sec\n",
            "['open through proxy; bytes sent; bytes received; close; Could not connect through proxy; Proxy closed the connection;']\n"
          ]
        }
      ]
    },
    {
      "cell_type": "code",
      "source": [
        "import os\n",
        "from openai import AzureOpenAI\n",
        "import dotenv\n",
        "import pandas as pd\n",
        "import time\n",
        "dotenv.load_dotenv('./.env')\n",
        "\n",
        "client = AzureOpenAI(\n",
        "  azure_endpoint = \"https://aiops23.openai.azure.com/\",\n",
        "  api_key=os.getenv(\"OPENAI_API_KEY\"),\n",
        "  api_version=\"2023-09-15-preview\"\n",
        ")\n",
        "\n",
        "def open_ai_summary(model, input):\n",
        "  text = '\\n'.join(input)\n",
        "  # print(input)\n",
        "\n",
        "  # prompt = f\"\"\"\n",
        "  # Create a concise summary for the following log text:\n",
        "  # 1. summarize the following text delimited by triple backticks with mulitple lines of logs .\n",
        "  # 2. Find out all the state transitions\n",
        "  # 3. Include port info or error if applicable\n",
        "  # 4. Calculate the average and variance for the bytes received and sent\n",
        "  # 5. the summary should have less 20 words\n",
        "  # 6. output a json summary with the following keys: summary.\n",
        "\n",
        "  # Text:\n",
        "  # ```{text}```\n",
        "  # \"\"\"\n",
        "  template = f\"\"\"\n",
        "  sure, I can create a template for summary as the following:\n",
        "  opening port [Port Number], transmitting variable data ('[Transmitted Data]'), receiving ('[Received Data]') with average [Average Speed] MB/s, variance [Variance Speed] MB/s, finally closing the port.\"\n",
        "  \"\"\"\n",
        "\n",
        "  response = client.chat.completions.create(\n",
        "    model=model,\n",
        "    messages=[\n",
        "        {\"role\": \"system\", \"content\": \"You are a networking specialist and understand how proxy works\"},\n",
        "        {\"role\": \"user\", \"content\": \"Help me to create a concise summary less than 20 words, the output is a josn summary with the following keys: summary, throughput, anormly\"},\n",
        "        {\"role\": \"assistant\", \"content\": template},\n",
        "        {\"role\": \"user\", \"content\":  text},\n",
        "\n",
        "    ],\n",
        "    temperature=0.3,\n",
        "    max_tokens=250,\n",
        "    top_p=1,\n",
        "    frequency_penalty=0,\n",
        "    presence_penalty=0,\n",
        "    stop=None\n",
        "  )\n",
        "\n",
        "  print(response.choices[0].message.content)\n",
        "\n",
        "  return response.choices[0].message.content"
      ],
      "metadata": {
        "colab": {
          "base_uri": "https://localhost:8080/",
          "height": 17
        },
        "id": "DekEL3YctPqC",
        "outputId": "0f5cdc80-dc9e-469f-8f45-7a4dd214451f"
      },
      "execution_count": 10,
      "outputs": [
        {
          "output_type": "display_data",
          "data": {
            "text/plain": [
              "<IPython.core.display.HTML object>"
            ],
            "text/html": [
              "\n",
              "  <style>\n",
              "    pre {\n",
              "        white-space: pre-wrap;\n",
              "    }\n",
              "  </style>\n",
              "  "
            ]
          },
          "metadata": {}
        }
      ]
    },
    {
      "cell_type": "code",
      "source": [
        "engines = ['gpt3', 'gpt4']\n",
        "\n",
        "results = pd.DataFrame(columns=['ref', 'gen3', 'gen4', 'log'])\n",
        "\n",
        "for index, ref in enumerate(p_summary):\n",
        "  # print(f\"Key: {index}, Value: {input}\")\n",
        "  if index > 10:\n",
        "    continue\n",
        "  new_row = [ref]\n",
        "  input = p_data[str(index+1)]\n",
        "  for engine in engines:\n",
        "    summary = open_ai_summary(engine, input)\n",
        "    print(summary)\n",
        "    new_row.append(summary)\n",
        "    time.sleep(10)\n",
        "\n",
        "  new_row.append('\\n'.join(input))\n",
        "  new_row = pd.DataFrame([new_row], columns=results.columns)\n",
        "  results = pd.concat([results, new_row], ignore_index=True)\n",
        "\n",
        "results.to_csv('openai_proxifier.csv', index=False)"
      ],
      "metadata": {
        "id": "1MVYZIuBlf5L",
        "colab": {
          "base_uri": "https://localhost:8080/",
          "height": 1000
        },
        "outputId": "3942aca6-eca7-40fe-afbc-18ef62bf1832"
      },
      "execution_count": 11,
      "outputs": [
        {
          "output_type": "display_data",
          "data": {
            "text/plain": [
              "<IPython.core.display.HTML object>"
            ],
            "text/html": [
              "\n",
              "  <style>\n",
              "    pre {\n",
              "        white-space: pre-wrap;\n",
              "    }\n",
              "  </style>\n",
              "  "
            ]
          },
          "metadata": {}
        },
        {
          "output_type": "stream",
          "name": "stdout",
          "text": [
            "{\n",
            "  \"summary\": \"Proxy connection established and closed multiple times with varying data sizes.\",\n",
            "  \"throughput\": \"Average throughput: 1.5 KB/s\",\n",
            "  \"anomaly\": \"No anomalies detected.\"\n",
            "}\n",
            "{\n",
            "  \"summary\": \"Proxy connection established and closed multiple times with varying data sizes.\",\n",
            "  \"throughput\": \"Average throughput: 1.5 KB/s\",\n",
            "  \"anomaly\": \"No anomalies detected.\"\n",
            "}\n",
            "{\n",
            "\"summary\": \"Multiple HTTPS connections opened and closed through proxy.cse.cuhk.edu.hk : 5070\",\n",
            "\"throughput\": \"Average sent: ~1.03KB, Average received: ~7.8KB\",\n",
            "\"anormly\": \"No anomalies detected\"\n",
            "}\n",
            "{\n",
            "\"summary\": \"Multiple HTTPS connections opened and closed through proxy.cse.cuhk.edu.hk : 5070\",\n",
            "\"throughput\": \"Average sent: ~1.03KB, Average received: ~7.8KB\",\n",
            "\"anormly\": \"No anomalies detected\"\n",
            "}\n",
            "{\n",
            "  \"summary\": \"Multiple connections opened and closed through proxy.cse.cuhk.edu.hk with varying data transfer sizes.\",\n",
            "  \"throughput\": \"Average throughput: 0.5 MB/s\",\n",
            "  \"anomaly\": \"No anomalies detected.\"\n",
            "}\n",
            "{\n",
            "  \"summary\": \"Multiple connections opened and closed through proxy.cse.cuhk.edu.hk with varying data transfer sizes.\",\n",
            "  \"throughput\": \"Average throughput: 0.5 MB/s\",\n",
            "  \"anomaly\": \"No anomalies detected.\"\n",
            "}\n",
            "{\n",
            "\"summary\": \"Multiple connections opened and closed via proxy, some with errors.\",\n",
            "\"throughput\": \"Total sent: 1593 bytes, Total received: 1235 bytes\",\n",
            "\"anomaly\": \"Unexpected proxy closure on tcpconn4.tencent.com\"\n",
            "}\n",
            "{\n",
            "\"summary\": \"Multiple connections opened and closed via proxy, some with errors.\",\n",
            "\"throughput\": \"Total sent: 1593 bytes, Total received: 1235 bytes\",\n",
            "\"anomaly\": \"Unexpected proxy closure on tcpconn4.tencent.com\"\n",
            "}\n",
            "{\n",
            "  \"summary\": \"Proxy server at proxy.cse.cuhk.edu.hk:5070 opened and closed multiple times, with varying data sent and received.\",\n",
            "  \"throughput\": \"Average throughput: 1.21 KB/s\",\n",
            "  \"anomaly\": \"No anomalies detected\"\n",
            "}\n",
            "{\n",
            "  \"summary\": \"Proxy server at proxy.cse.cuhk.edu.hk:5070 opened and closed multiple times, with varying data sent and received.\",\n",
            "  \"throughput\": \"Average throughput: 1.21 KB/s\",\n",
            "  \"anomaly\": \"No anomalies detected\"\n",
            "}\n",
            "{\n",
            "\"summary\": \"Proxy on port 5070 at proxy.cse.cuhk.edu.hk opened and closed multiple times.\",\n",
            "\"throughput\": \"Average data sent: 1.19 KB, Average data received: 8.73 KB\",\n",
            "\"anomaly\": \"No anomalies detected within given data.\"\n",
            "}\n",
            "{\n",
            "\"summary\": \"Proxy on port 5070 at proxy.cse.cuhk.edu.hk opened and closed multiple times.\",\n",
            "\"throughput\": \"Average data sent: 1.19 KB, Average data received: 8.73 KB\",\n",
            "\"anomaly\": \"No anomalies detected within given data.\"\n",
            "}\n",
            "{\n",
            "  \"summary\": \"Proxy connection closed with varying data sent and received, lifetimes ranging from <1 sec to 00:03\",\n",
            "  \"throughput\": \"Average throughput: 4.8 KB/s\",\n",
            "  \"anomaly\": \"No anomalies detected\"\n",
            "}\n",
            "{\n",
            "  \"summary\": \"Proxy connection closed with varying data sent and received, lifetimes ranging from <1 sec to 00:03\",\n",
            "  \"throughput\": \"Average throughput: 4.8 KB/s\",\n",
            "  \"anomaly\": \"No anomalies detected\"\n",
            "}\n",
            "{\n",
            "\"summary\": \"Data transmitted through proxy.cse.cuhk.edu.hk:5070, both sent and received\",\n",
            "\"throughput\": \"Variable data size, ranging from 0 bytes to 43.9 KB\",\n",
            "\"anormly\": \"Several instances of 0 bytes received\"\n",
            "}\n",
            "{\n",
            "\"summary\": \"Data transmitted through proxy.cse.cuhk.edu.hk:5070, both sent and received\",\n",
            "\"throughput\": \"Variable data size, ranging from 0 bytes to 43.9 KB\",\n",
            "\"anormly\": \"Several instances of 0 bytes received\"\n",
            "}\n",
            "{\n",
            "  \"summary\": \"Proxy server proxy.cse.cuhk.edu.hk closed after transmitting and receiving data.\",\n",
            "  \"throughput\": \"Average throughput: 2.36 KB/s\",\n",
            "  \"anomaly\": \"No anomalies detected.\"\n",
            "}\n",
            "{\n",
            "  \"summary\": \"Proxy server proxy.cse.cuhk.edu.hk closed after transmitting and receiving data.\",\n",
            "  \"throughput\": \"Average throughput: 2.36 KB/s\",\n",
            "  \"anomaly\": \"No anomalies detected.\"\n",
            "}\n",
            "{\n",
            "\"summary\": \"Proxy.cse.cuhk.edu.hk:5070 handled multiple data transactions, both sent and received, before closing.\",\n",
            "\"throughput\": \"Average data sent: ~6.5KB, Average data received: ~12.7KB\",\n",
            "\"anomaly\": \"Significant data received in third transaction (64.5KB)\"\n",
            "}\n",
            "{\n",
            "\"summary\": \"Proxy.cse.cuhk.edu.hk:5070 handled multiple data transactions, both sent and received, before closing.\",\n",
            "\"throughput\": \"Average data sent: ~6.5KB, Average data received: ~12.7KB\",\n",
            "\"anomaly\": \"Significant data received in third transaction (64.5KB)\"\n",
            "}\n",
            "{\n",
            "  \"summary\": \"Proxy connection through proxy.cse.cuhk.edu.hk:5070 HTTPS established and closed with varying data throughput.\",\n",
            "  \"throughput\": \"Average throughput: 0.01 KB/s\",\n",
            "  \"anomaly\": \"No anomalies detected\"\n",
            "}\n",
            "{\n",
            "  \"summary\": \"Proxy connection through proxy.cse.cuhk.edu.hk:5070 HTTPS established and closed with varying data throughput.\",\n",
            "  \"throughput\": \"Average throughput: 0.01 KB/s\",\n",
            "  \"anomaly\": \"No anomalies detected\"\n",
            "}\n",
            "{\"summary\": \"proxy.cse.cuhk.edu.hk:5070 opened and closed multiple times\", \"throughput\": \"846 bytes sent, 17543 bytes received maximum\", \"anormly\": \"frequent opening and closing\"}\n",
            "{\"summary\": \"proxy.cse.cuhk.edu.hk:5070 opened and closed multiple times\", \"throughput\": \"846 bytes sent, 17543 bytes received maximum\", \"anormly\": \"frequent opening and closing\"}\n",
            "{\n",
            "  \"summary\": \"Proxy connection established and closed multiple times with varying data transmission and reception.\",\n",
            "  \"throughput\": \"Average throughput: 8.07 KB/s\",\n",
            "  \"anomaly\": \"No anomalies detected.\"\n",
            "}\n",
            "{\n",
            "  \"summary\": \"Proxy connection established and closed multiple times with varying data transmission and reception.\",\n",
            "  \"throughput\": \"Average throughput: 8.07 KB/s\",\n",
            "  \"anomaly\": \"No anomalies detected.\"\n",
            "}\n",
            "{\n",
            "\"summary\": \"Multiple proxy connections opened and closed on port 5070\",\n",
            "\"throughput\": \"Total bytes sent: 1310, Total bytes received: 56034\",\n",
            "\"anomaly\": \"No anomalies detected\"\n",
            "}\n",
            "{\n",
            "\"summary\": \"Multiple proxy connections opened and closed on port 5070\",\n",
            "\"throughput\": \"Total bytes sent: 1310, Total bytes received: 56034\",\n",
            "\"anomaly\": \"No anomalies detected\"\n",
            "}\n",
            "{\n",
            "  \"summary\": \"Proxy server at proxy.cse.cuhk.edu.hk:5070 opened and closed multiple times, with varying data throughput.\",\n",
            "  \"throughput\": \"Average throughput: 1.22 KB/s\",\n",
            "  \"anomaly\": \"No anomalies detected\"\n",
            "}\n",
            "{\n",
            "  \"summary\": \"Proxy server at proxy.cse.cuhk.edu.hk:5070 opened and closed multiple times, with varying data throughput.\",\n",
            "  \"throughput\": \"Average throughput: 1.22 KB/s\",\n",
            "  \"anomaly\": \"No anomalies detected\"\n",
            "}\n",
            "{\n",
            "\"summary\": \"Multiple HTTPS connections opened and closed on proxy.cse.cuhk.edu.hk:5070.\",\n",
            "\"throughput\": \"Average sent: ~1.11KB, Average received: ~20.16KB\",\n",
            "\"anomaly\": \"No anomalies detected\"\n",
            "}\n",
            "{\n",
            "\"summary\": \"Multiple HTTPS connections opened and closed on proxy.cse.cuhk.edu.hk:5070.\",\n",
            "\"throughput\": \"Average sent: ~1.11KB, Average received: ~20.16KB\",\n",
            "\"anomaly\": \"No anomalies detected\"\n",
            "}\n",
            "{\n",
            "  \"summary\": \"Proxy connection established and closed multiple times with varying data transmitted and received.\",\n",
            "  \"throughput\": \"Average throughput: 1.15 KB/s\",\n",
            "  \"anomaly\": \"No anomalies detected\"\n",
            "}\n",
            "{\n",
            "  \"summary\": \"Proxy connection established and closed multiple times with varying data transmitted and received.\",\n",
            "  \"throughput\": \"Average throughput: 1.15 KB/s\",\n",
            "  \"anomaly\": \"No anomalies detected\"\n",
            "}\n",
            "{\n",
            "\"summary\": \"proxy.cse.cuhk.edu.hk:5070 opened and closed multiple times, transmitting and receiving data.\",\n",
            "\"throughput\": \"Average data sent: ~1.15KB, Average data received: ~2.18KB\",\n",
            "\"anomaly\": \"No anomalies detected\"\n",
            "}\n",
            "{\n",
            "\"summary\": \"proxy.cse.cuhk.edu.hk:5070 opened and closed multiple times, transmitting and receiving data.\",\n",
            "\"throughput\": \"Average data sent: ~1.15KB, Average data received: ~2.18KB\",\n",
            "\"anomaly\": \"No anomalies detected\"\n",
            "}\n",
            "{\n",
            "  \"summary\": \"Proxy closed port 5070 after sending/receiving data. Throughput: [Throughput Value]. Anomaly: [Anomaly Value].\",\n",
            "  \"throughput\": \"[Throughput Value]\",\n",
            "  \"anomaly\": \"[Anomaly Value]\"\n",
            "}\n",
            "{\n",
            "  \"summary\": \"Proxy closed port 5070 after sending/receiving data. Throughput: [Throughput Value]. Anomaly: [Anomaly Value].\",\n",
            "  \"throughput\": \"[Throughput Value]\",\n",
            "  \"anomaly\": \"[Anomaly Value]\"\n",
            "}\n",
            "{\n",
            "\"summary\": \"Proxy.cse.cuhk.edu.hk:5070 opened and closed multiple times, transmitted and received various data sizes.\",\n",
            "\"throughput\": \"Average data sent and received varies, with a maximum of 55.0 KB received.\",\n",
            "\"anormly\": \"No anomalies detected within the given data.\"\n",
            "}\n",
            "{\n",
            "\"summary\": \"Proxy.cse.cuhk.edu.hk:5070 opened and closed multiple times, transmitted and received various data sizes.\",\n",
            "\"throughput\": \"Average data sent and received varies, with a maximum of 55.0 KB received.\",\n",
            "\"anormly\": \"No anomalies detected within the given data.\"\n",
            "}\n",
            "{\n",
            "  \"summary\": \"Proxy server at proxy.cse.cuhk.edu.hk closed ports and transmitted/received data.\",\n",
            "  \"throughput\": \"Average throughput: 10.2 KB/s\",\n",
            "  \"anomaly\": \"No anomalies detected.\"\n",
            "}\n",
            "{\n",
            "  \"summary\": \"Proxy server at proxy.cse.cuhk.edu.hk closed ports and transmitted/received data.\",\n",
            "  \"throughput\": \"Average throughput: 10.2 KB/s\",\n",
            "  \"anomaly\": \"No anomalies detected.\"\n",
            "}\n",
            "{\n",
            "\"summary\": \"proxy.cse.cuhk.edu.hk:5070, sent 431 bytes, received ~10KB\",\n",
            "\"throughput\": \"High, multiple transactions <1 sec\",\n",
            "\"anomaly\": \"One instance of 0 bytes sent/received\"\n",
            "}\n",
            "{\n",
            "\"summary\": \"proxy.cse.cuhk.edu.hk:5070, sent 431 bytes, received ~10KB\",\n",
            "\"throughput\": \"High, multiple transactions <1 sec\",\n",
            "\"anomaly\": \"One instance of 0 bytes sent/received\"\n",
            "}\n"
          ]
        }
      ]
    },
    {
      "cell_type": "code",
      "source": [
        "zookeeper_log_fie = \"/content/code-and-datasets/data/summary/logs/Zookeeper.txt\"\n",
        "z_data, z_summary = load_data(zookeeper_log_fie)\n",
        "print(len(z_data))\n",
        "print( ', '.join(z_data.keys()))\n",
        "print('\\n'.join(z_data['1']))\n",
        "print(z_summary[0])\n",
        "print(len(z_data['2']))\n",
        "print(len(z_summary))\n"
      ],
      "metadata": {
        "colab": {
          "base_uri": "https://localhost:8080/",
          "height": 503
        },
        "id": "Myd4B4SkYH7t",
        "outputId": "f64d4d6d-d2ce-4ce2-8245-c3a59b66426b"
      },
      "execution_count": 14,
      "outputs": [
        {
          "output_type": "display_data",
          "data": {
            "text/plain": [
              "<IPython.core.display.HTML object>"
            ],
            "text/html": [
              "\n",
              "  <style>\n",
              "    pre {\n",
              "        white-space: pre-wrap;\n",
              "    }\n",
              "  </style>\n",
              "  "
            ]
          },
          "metadata": {}
        },
        {
          "output_type": "stream",
          "name": "stdout",
          "text": [
            "100\n",
            "1, 2, 3, 4, 5, 6, 7, 8, 9, 10, 11, 12, 13, 14, 15, 16, 17, 18, 19, 20, 21, 22, 23, 24, 25, 26, 27, 28, 29, 30, 31, 32, 33, 34, 35, 36, 37, 38, 39, 40, 41, 42, 43, 44, 45, 46, 47, 48, 49, 50, 51, 52, 53, 54, 55, 56, 57, 58, 59, 60, 61, 62, 63, 64, 65, 66, 67, 68, 69, 70, 71, 72, 73, 74, 75, 76, 77, 78, 79, 80, 81, 82, 83, 84, 85, 86, 87, 88, 89, 90, 91, 92, 93, 94, 95, 96, 97, 98, 99, 100\n",
            "WARN Send worker leaving thread\n",
            "INFO Received connection request /10.10.34.11 : 45328\n",
            "WARN Connection broken for id 188978561024 , my id = 1 , error =\n",
            "WARN Interrupting SendWorker\n",
            "WARN Interrupted while waiting for message on queue\n",
            "WARN Send worker leaving thread\n",
            "INFO Received connection request /10.10.34.11 : 45329\n",
            "WARN Connection broken for id 188978561024 , my id = 1 , error =\n",
            "WARN Interrupting SendWorker\n",
            "WARN Interrupted while waiting for message on queue\n",
            "WARN Send worker leaving thread\n",
            "INFO Received connection request /10.10.34.11 : 45336\n",
            "INFO Received connection request /10.10.34.11 : 45338\n",
            "WARN Interrupted while waiting for message on queue\n",
            "WARN Connection broken for id 188978561024 , my id = 1 , error =\n",
            "WARN Interrupting SendWorker\n",
            "WARN Send worker leaving thread\n",
            "WARN Connection broken for id 188978561024 , my id = 1 , error =\n",
            "WARN Interrupting SendWorker\n",
            "WARN Interrupted while waiting for message on queue\n",
            "['Send worker leaving thread; Received connection request; Connection broken; Interrupted; Interrupting SendWorker;']\n",
            "20\n",
            "101\n"
          ]
        }
      ]
    },
    {
      "cell_type": "markdown",
      "source": [
        "# New Section"
      ],
      "metadata": {
        "id": "BuCOk-8xqUTO"
      }
    },
    {
      "cell_type": "code",
      "source": [
        "\n",
        "def open_ai_zk_summary(model, input, train):\n",
        "  text = '\\n'.join(input)\n",
        "  # print(input)\n",
        "\n",
        "  prompts=[]\n",
        "  prompts.append({\"role\": \"system\", \"content\": \"You are a zookeeper specialist\"})\n",
        "  prompts.append({\"role\": \"user\", \"content\": \"Help me to create a concise summary less than 20 words, \\\n",
        "  the output is a josn summary with the following keys: summary, anormly\"})\n",
        "  prompts.append({\"role\": \"assistant\", \"content\": \"yes, I can do it.\"})\n",
        "\n",
        "  logs, summary = train[0], train[1]\n",
        "\n",
        "  for i in range(len(train[0])):\n",
        "    userContent = '\\n'.join(logs[i])\n",
        "    assistantContent = summary[i][0]\n",
        "    prompts.append({\"role\": \"user\", \"content\": f\"\"\"create a summary for: {userContent}\"\"\"})\n",
        "    # data = f\"\"\"\"summary\": {assistantContent}\"\"\"\n",
        "    prompts.append({\"role\": \"assistant\", \"content\": assistantContent})\n",
        "\n",
        "  prompts.append({\"role\": \"user\", \"content\": f\"create a summary for: {text}\"})\n",
        "\n",
        "  # for i in range(len(prompts)):\n",
        "  #   print(prompts[i])\n",
        "\n",
        "  response = client.chat.completions.create(\n",
        "    model=model,\n",
        "    messages=prompts,\n",
        "    temperature=0.3,\n",
        "    max_tokens=250,\n",
        "    top_p=1,\n",
        "    frequency_penalty=0,\n",
        "    presence_penalty=0,\n",
        "    stop=None\n",
        "  )\n",
        "\n",
        "  print(response.choices[0].message.content)\n",
        "\n",
        "  return response.choices[0].message.content"
      ],
      "metadata": {
        "colab": {
          "base_uri": "https://localhost:8080/",
          "height": 17
        },
        "id": "Ry1nI0RJcMkO",
        "outputId": "0e47e967-9159-4899-e1ef-19e938fe19b8"
      },
      "execution_count": 83,
      "outputs": [
        {
          "output_type": "display_data",
          "data": {
            "text/plain": [
              "<IPython.core.display.HTML object>"
            ],
            "text/html": [
              "\n",
              "  <style>\n",
              "    pre {\n",
              "        white-space: pre-wrap;\n",
              "    }\n",
              "  </style>\n",
              "  "
            ]
          },
          "metadata": {}
        }
      ]
    },
    {
      "cell_type": "code",
      "source": [
        "\n",
        "#  openai migrate\n",
        "\n",
        "engines = ['gpt3', 'gpt4']\n",
        "\n",
        "results = pd.DataFrame(columns=['ref', 'gen3', 'gen4', 'log'])\n",
        "\n",
        "# use first 10 rows as training set\n",
        "trains = ([],[])\n",
        "for i in range(5):\n",
        "  trains[0].append(z_data[str(index+1)])\n",
        "  trains[1].append(z_summary[i][0])\n",
        "\n",
        "print(len(trains[0][0]))\n",
        "print(len(trains[1][0]))\n",
        "\n",
        "for index, ref in enumerate(z_summary):\n",
        "  # print(f\"Key: {index}, Value: {input}\")\n",
        "  if index < 10 or index > 20:\n",
        "    continue\n",
        "  new_row = [ref]\n",
        "  input = z_data[str(index+1)]\n",
        "  for engine in engines:\n",
        "    summary = open_ai_zk_summary(engine, input, trains)\n",
        "    print(summary)\n",
        "    new_row.append(summary)\n",
        "    time.sleep(10)\n",
        "\n",
        "  new_row.append('\\n'.join(input))\n",
        "  new_row = pd.DataFrame([new_row], columns=results.columns)\n",
        "  results = pd.concat([results, new_row], ignore_index=True)\n",
        "\n",
        "results.to_csv('openai_zookeeper.csv', index=False)"
      ],
      "metadata": {
        "colab": {
          "base_uri": "https://localhost:8080/",
          "height": 1000
        },
        "id": "Z9e1rG5bDKkz",
        "outputId": "5fb21a31-a3e7-4799-fe6e-7ebb26a80b0c"
      },
      "execution_count": 85,
      "outputs": [
        {
          "output_type": "display_data",
          "data": {
            "text/plain": [
              "<IPython.core.display.HTML object>"
            ],
            "text/html": [
              "\n",
              "  <style>\n",
              "    pre {\n",
              "        white-space: pre-wrap;\n",
              "    }\n",
              "  </style>\n",
              "  "
            ]
          },
          "metadata": {}
        },
        {
          "output_type": "stream",
          "name": "stdout",
          "text": [
            "20\n",
            "113\n",
            "{\n",
            "  \"summary\": \"Processed session terminations and expirations, accepted socket connection, warnings, and closed socket connection.\",\n",
            "  \"anomaly\": \"None\"\n",
            "}\n",
            "{\n",
            "  \"summary\": \"Processed session terminations and expirations, accepted socket connection, warnings, and closed socket connection.\",\n",
            "  \"anomaly\": \"None\"\n",
            "}\n",
            "{\"summary\": \"Multiple session terminations processed, some sessions expired due to timeout, one client connection closed.\", \"anomaly\": \"Old client connection request, end of stream exception caught.\"}\n",
            "{\"summary\": \"Multiple session terminations processed, some sessions expired due to timeout, one client connection closed.\", \"anomaly\": \"Old client connection request, end of stream exception caught.\"}\n",
            "A\n",
            "A\n",
            "{\"summary\": \"Multiple session terminations and expirations occurred with some stream exceptions.\", \"anomaly\": \"Stream exceptions and session timeouts.\"}\n",
            "{\"summary\": \"Multiple session terminations and expirations occurred with some stream exceptions.\", \"anomaly\": \"Stream exceptions and session timeouts.\"}\n",
            "A\n",
            "A\n",
            "{\"summary\": \"Multiple session terminations processed and expired due to timeouts.\", \"anomaly\": \"None\"}\n",
            "{\"summary\": \"Multiple session terminations processed and expired due to timeouts.\", \"anomaly\": \"None\"}\n",
            "A\n",
            "A\n",
            "{\"summary\": \"Multiple session terminations, stream exceptions and expired sessions.\", \"anomaly\": \"Frequent end of stream exceptions.\"}\n",
            "{\"summary\": \"Multiple session terminations, stream exceptions and expired sessions.\", \"anomaly\": \"Frequent end of stream exceptions.\"}\n",
            "A\n",
            "A\n",
            "{\"summary\": \"Repeated failed attempts to open channels for election addresses, causing notification timeouts.\", \"anomaly\": \"Channel opening failures and timeouts\"}\n",
            "{\"summary\": \"Repeated failed attempts to open channels for election addresses, causing notification timeouts.\", \"anomaly\": \"Channel opening failures and timeouts\"}\n",
            "A\n",
            "A\n",
            "{\"summary\": \"Connection requests received and processed, notifications sent, server environment details logged.\", \"anomaly\": \"None\"}\n",
            "{\"summary\": \"Connection requests received and processed, notifications sent, server environment details logged.\", \"anomaly\": \"None\"}\n",
            "A\n",
            "A\n",
            "{\"summary\": \"Multiple sessions established with various clients, warnings for old client connections.\", \"anomaly\": \"Old client connection warnings.\"}\n",
            "{\"summary\": \"Multiple sessions established with various clients, warnings for old client connections.\", \"anomaly\": \"Old client connection warnings.\"}\n",
            "A\n",
            "A\n",
            "{\"summary\": \"Server initialized, processed elections and connection requests, now following leader 3\", \"anomaly\": \"None\"}\n",
            "{\"summary\": \"Server initialized, processed elections and connection requests, now following leader 3\", \"anomaly\": \"None\"}\n",
            "A\n",
            "A\n",
            "{\"summary\": \"Multiple session terminations, new sessions established, some with exceptions.\", \"anomaly\": \"End of stream exceptions and old client warnings.\"}\n",
            "{\"summary\": \"Multiple session terminations, new sessions established, some with exceptions.\", \"anomaly\": \"End of stream exceptions and old client warnings.\"}\n",
            "A\n",
            "A\n",
            "{\"summary\": \"Multiple session establishments and renewals, with some old client warnings.\", \"anomaly\": \"Old client connection requests.\"}\n",
            "{\"summary\": \"Multiple session establishments and renewals, with some old client warnings.\", \"anomaly\": \"Old client connection requests.\"}\n",
            "A\n",
            "A\n",
            "{\"summary\": \"Multiple session terminations and socket disconnections occurred\", \"anomaly\": \"Repeated end of stream exceptions caught.\"}\n",
            "{\"summary\": \"Multiple session terminations and socket disconnections occurred\", \"anomaly\": \"Repeated end of stream exceptions caught.\"}\n"
          ]
        }
      ]
    },
    {
      "cell_type": "code",
      "source": [],
      "metadata": {
        "id": "1v4JOHjsnxa_"
      },
      "execution_count": null,
      "outputs": []
    }
  ]
}
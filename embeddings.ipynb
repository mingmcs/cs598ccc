{
  "cells": [
    {
      "cell_type": "markdown",
      "metadata": {
        "id": "view-in-github",
        "colab_type": "text"
      },
      "source": [
        "<a href=\"https://colab.research.google.com/github/mingmcs/cs598ccc/blob/main/embeddings.ipynb\" target=\"_parent\"><img src=\"https://colab.research.google.com/assets/colab-badge.svg\" alt=\"Open In Colab\"/></a>"
      ]
    },
    {
      "cell_type": "code",
      "execution_count": null,
      "metadata": {
        "id": "VUfQddeEFDk-"
      },
      "outputs": [],
      "source": [
        "!pip install PyPDF2\n",
        "!pip install redis\n",
        "!pip install openai==0.28\n",
        "!pip install cohere\n",
        "!pip install tiktoken\n",
        "!pip install langchain\n",
        "!pip install typing\n",
        "!pip install scikit-learn\n",
        "!git clone https://github.com/LogSummary/code-and-datasets.git\n",
        "\n",
        "from PyPDF2 import PdfReader\n",
        "#from openai.embeddings_utils import get_embedding\n",
        "import tiktoken\n",
        "from typing import List\n",
        "from langchain.embeddings import OpenAIEmbeddings\n",
        "from langchain.vectorstores.redis import Redis as RedisVectorStore\n",
        "from langchain.document_loaders import DataFrameLoader\n",
        "\n"
      ]
    },
    {
      "cell_type": "code",
      "source": [
        "!pip show openai\n",
        "\n"
      ],
      "metadata": {
        "id": "bWhs_Dcj2zW5"
      },
      "execution_count": null,
      "outputs": []
    },
    {
      "cell_type": "code",
      "source": [
        "import json\n",
        "import pandas as pd\n",
        "\n",
        "\n",
        "proxifier_log_fie = \"/content/code-and-datasets/data/summary/logs/Proxifier.txt\"\n",
        "\n",
        "SUMMARY = 'summary'\n",
        "LOG = 'log'\n",
        "def get_record_type(key):\n",
        "  if key.startswith(\"#summary:#\"):\n",
        "    return SUMMARY\n",
        "  else:\n",
        "    return LOG\n",
        "\n",
        "def load_data(file):\n",
        "  data_log = {}\n",
        "  data_summary = []\n",
        "  current_key = None\n",
        "  lines = []\n",
        "  record_type = LOG\n",
        "\n",
        "  with open(file, 'r') as file:\n",
        "    for line in file:\n",
        "      line = line.strip()\n",
        "      if not line:\n",
        "        continue\n",
        "\n",
        "      if line.startswith(\"#\"):\n",
        "        if current_key is not None:\n",
        "          if get_record_type(current_key) == SUMMARY:\n",
        "            data_summary.append(lines)\n",
        "          else:\n",
        "            data_log[current_key.replace(\"#\", \"\")] = lines\n",
        "\n",
        "        current_key = line\n",
        "        lines = []\n",
        "      else:\n",
        "        lines.append(line)\n",
        "\n",
        "    if current_key is not None:\n",
        "      data_summary.append(lines)\n",
        "  return data_log, data_summary\n",
        "\n",
        "p_data, p_summary = load_data(proxifier_log_fie)\n",
        "#print(p_data['1'])\n",
        "\n",
        "a = \"\"\n",
        "for i in range(0, len(p_data['1'])):\n",
        "  a = a + p_data['1'][i] + '\\n '\n",
        "print(a)\n",
        "\n",
        "print(p_summary[0][0])\n",
        "\n",
        "df = pd.DataFrame(columns=[ 'log_data', 'log_summary', 'product'])\n",
        "for i in range(1, len(p_data)+1):\n",
        "  #print(p_data[str(i)])\n",
        "  #print(p_summary[i-1][0])\n",
        "  string_data = \"\"\n",
        "  for j in range(0, len(p_data[str(i)])):\n",
        "    string_data = string_data + p_data[str(i)][j] + \"\\n \"\n",
        "  df = df.append({'log_data': string_data, 'log_summary':p_summary[i-1][0], 'product':\"Proxifier\"} , ignore_index=True)\n",
        "\n",
        "print(df.items)"
      ],
      "metadata": {
        "id": "FYYDwgV69Cu8"
      },
      "execution_count": null,
      "outputs": []
    },
    {
      "cell_type": "code",
      "execution_count": null,
      "metadata": {
        "id": "-TaecAY9bTKh"
      },
      "outputs": [],
      "source": [
        "zookeeper_log_fie = \"/content/code-and-datasets/data/summary/logs/Zookeeper.txt\"\n",
        "z_data, z_summary = load_data(zookeeper_log_fie)\n",
        "print(len(z_data))\n",
        "print( ', '.join(z_data.keys()))\n",
        "print('\\n'.join(z_data['1']))\n",
        "print(z_summary[0])\n",
        "print(len(z_data['2']))\n",
        "print(len(z_summary))\n",
        "\n",
        "\n",
        "for i in range(1, len(z_data)+1):\n",
        "  #print(p_data[str(i)])\n",
        "  #print(p_summary[i-1][0])\n",
        "  string_data = \"\"\n",
        "  for j in range(0, len(z_data[str(i)])):\n",
        "    string_data = string_data + z_data[str(i)][j] + \"\\n \"\n",
        "  df = df.append({'log_data': string_data, 'log_summary':z_summary[i-1][0], 'product':\"Zookeeper\"} , ignore_index=True)\n",
        "\n",
        "print(df.items)\n",
        "\n",
        "\n",
        "\n",
        "b = \"\"\n",
        "for i in range(0, len(z_data['1'])):\n",
        "  b = b + z_data['1'][i] + '\\n '\n",
        "print(b)\n",
        "\n"
      ]
    },
    {
      "cell_type": "code",
      "source": [
        "!pip install redis"
      ],
      "metadata": {
        "id": "osc5zSSRzMJ5"
      },
      "execution_count": null,
      "outputs": []
    },
    {
      "cell_type": "code",
      "source": [
        "# this is used to test pandas\n",
        "import redis\n",
        "r = redis.Redis(host='redislocal', port=6379, decode_responses=True)\n",
        "r.set('foo', 'bar')\n",
        "a = r.get('foo')\n",
        "print(a)"
      ],
      "metadata": {
        "id": "JbfOFRVEGJ8x"
      },
      "execution_count": null,
      "outputs": []
    },
    {
      "cell_type": "markdown",
      "source": [
        "# New Section"
      ],
      "metadata": {
        "id": "wDUKoZcBGNQw"
      }
    },
    {
      "cell_type": "markdown",
      "metadata": {
        "id": "Td216Uv6GuQU"
      },
      "source": []
    },
    {
      "cell_type": "code",
      "source": [
        "API_KEY = \"\" # supply your api_key\n",
        "RESOURCE_ENDPOINT = \"https://openaics598.openai.azure.com\"\n",
        "DEPLOYMENT_NAME = \"cs598\"\n",
        "MODEL_NAME = \"text-embedding-ada-002\"\n"
      ],
      "metadata": {
        "id": "JfXGRzur8ji_"
      },
      "execution_count": null,
      "outputs": []
    },
    {
      "cell_type": "code",
      "source": [
        "embedding = OpenAIEmbeddings(\n",
        "    deployment=DEPLOYMENT_NAME,\n",
        "    model=MODEL_NAME,\n",
        "    openai_api_base=RESOURCE_ENDPOINT,\n",
        "    openai_api_type=\"azure\",\n",
        "    openai_api_key=API_KEY,\n",
        "    openai_api_version=\"2023-05-15\",\n",
        "    chunk_size=16 # current limit with Azure OpenAI service. This will likely increase in the future.\n",
        "    )"
      ],
      "metadata": {
        "id": "SDtSAwLMCkAU"
      },
      "execution_count": null,
      "outputs": []
    },
    {
      "cell_type": "code",
      "source": [],
      "metadata": {
        "id": "Mv9EyJ4izyLo"
      },
      "execution_count": null,
      "outputs": []
    },
    {
      "cell_type": "code",
      "source": [
        "print(embedding)\n",
        "loader = DataFrameLoader(df, page_content_column=\"log_data\" )\n",
        "movie_list = loader.load()\n",
        "print(movie_list)\n",
        "redis_url = \"redis://redislocal:6379\"\n",
        "\n",
        "'''\n",
        "vectorstore = RedisVectorStore.from_documents(\n",
        "    documents=movie_list,\n",
        "    embedding=embedding,\n",
        "    index_name=\"page_num\",\n",
        "    redis_url=redis_url\n",
        ")\n",
        "'''\n",
        "vectorstore = RedisVectorStore.from_documents(\n",
        "    documents=movie_list,\n",
        "    embedding=embedding,\n",
        "    index_name=\"log_data\",\n",
        "    redis_url=redis_url\n",
        ")"
      ],
      "metadata": {
        "id": "a65soKJwtUuq"
      },
      "execution_count": null,
      "outputs": []
    },
    {
      "cell_type": "code",
      "source": [
        "\"\"\"\n",
        "query = \"Version 3 features a number of other improvements. Overall the user experience has been\"\n",
        "results = vectorstore.similarity_search_with_score(query, k=10)\n",
        "for i, j in enumerate(results):\n",
        "  #print(results[i])\n",
        "  print(j)\n",
        "\"\"\"\n",
        "#query = \"to match the rule a connection should connect to a host from this list.\"\n",
        "#query = \"- proxy.cse.cuhk.edu.hk : 5070 open through proxy proxy.cse.cuhk.edu.hk\"\n",
        "\n",
        "\n",
        "print(a)\n",
        "results = vectorstore.similarity_search_with_score(a, k=5)\n",
        "for i, j in enumerate(results):\n",
        "  print(results[i][1])\n",
        "  print(j)\n",
        "\n"
      ],
      "metadata": {
        "id": "vR2KwZkGtU39"
      },
      "execution_count": null,
      "outputs": []
    },
    {
      "cell_type": "code",
      "source": [
        "\n",
        "print(b)\n",
        "results = vectorstore.similarity_search_with_score(b, k=5)\n",
        "for i, j in enumerate(results):\n",
        "  #print(results[i][0])\n",
        "  #print(j[0].page_content)\n",
        "  print(j[0].metadata.get('log_summary'))"
      ],
      "metadata": {
        "id": "brHFIOs3zrpf"
      },
      "execution_count": null,
      "outputs": []
    },
    {
      "cell_type": "code",
      "source": [
        "\n",
        "\n",
        "\n",
        "\n",
        "\n"
      ],
      "metadata": {
        "id": "7BJt_iVGq0Ci"
      },
      "execution_count": null,
      "outputs": []
    },
    {
      "cell_type": "code",
      "source": [],
      "metadata": {
        "id": "6lOLuFnMu7qr"
      },
      "execution_count": null,
      "outputs": []
    },
    {
      "cell_type": "code",
      "source": [],
      "metadata": {
        "id": "npW120Nnu71X"
      },
      "execution_count": null,
      "outputs": []
    },
    {
      "cell_type": "markdown",
      "source": [],
      "metadata": {
        "id": "TTfq1Ltyu8J7"
      }
    },
    {
      "cell_type": "code",
      "source": [
        "def open_ai_zk_summary(model, input, train):\n",
        "  text = '\\n'.join(input)\n",
        "  # print(input)\n",
        "\n",
        "  prompts=[]\n",
        "  prompts.append({\"role\": \"system\", \"content\": \"You are a zookeeper specialist\"})\n",
        "  prompts.append({\"role\": \"user\", \"content\": \"Help me to create a concise summary less than 20 words, \\\n",
        "  the output is a json summary with the following keys: summary, anormly\"})\n",
        "  prompts.append({\"role\": \"assistant\", \"content\": \"yes, I can do it.\"})\n",
        "\n",
        "  logs, summary = train[0], train[1]\n",
        "\n",
        "  \"\"\"\n",
        "  for i in range(len(train[0])):\n",
        "    userContent = '\\n'.join(logs[i])\n",
        "    assistantContent = summary[i][0]\n",
        "    prompts.append({\"role\": \"user\", \"content\": f\"\"\"create a summary for: {userContent}\"\"\"})\n",
        "    # data = f\"\"\"\"summary\": {assistantContent}\"\"\"\n",
        "    prompts.append({\"role\": \"assistant\", \"content\": assistantContent})\n",
        "  \"\"\"\n",
        "  results = vectorstore.similarity_search_with_score(text, k=5)\n",
        "  for i, j in enumerate(results):\n",
        "    userContent = j[0].page_content\n",
        "    assistantContent = j[0].metadata.get('log_summary')\n",
        "    prompts.append({\"role\": \"user\", \"content\": f\"\"\"create a summary for: {userContent}\"\"\"})\n",
        "    prompts.append({\"role\": \"assistant\", \"content\": assistantContent})\n",
        "\n",
        "\n",
        "  prompts.append({\"role\": \"user\", \"content\": f\"create a summary for: {text}\"})\n",
        "\n",
        "  # for i in range(len(prompts)):\n",
        "  #   print(prompts[i])\n",
        "\n",
        "  response = client.chat.completions.create(\n",
        "    model=model,\n",
        "    messages=prompts,\n",
        "    temperature=0.3,\n",
        "    max_tokens=250,\n",
        "    top_p=1,\n",
        "    frequency_penalty=0,\n",
        "    presence_penalty=0,\n",
        "    stop=None\n",
        "  )\n",
        "\n",
        "  print(f'response:{response.choices[0].message.content}')\n",
        "\n",
        "  return response.choices[0].message.content"
      ],
      "metadata": {
        "id": "bPSh2lZOCv5q"
      },
      "execution_count": null,
      "outputs": []
    },
    {
      "cell_type": "code",
      "source": [],
      "metadata": {
        "id": "3alvk9UizqJT"
      },
      "execution_count": null,
      "outputs": []
    }
  ],
  "metadata": {
    "colab": {
      "provenance": [],
      "private_outputs": true,
      "include_colab_link": true
    },
    "kernelspec": {
      "display_name": "Python 3",
      "name": "python3"
    },
    "language_info": {
      "name": "python"
    }
  },
  "nbformat": 4,
  "nbformat_minor": 0
}